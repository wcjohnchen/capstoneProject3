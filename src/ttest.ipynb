{
 "cells": [
  {
   "cell_type": "code",
   "execution_count": 91,
   "id": "veterinary-liberal",
   "metadata": {},
   "outputs": [],
   "source": [
    "import numpy as np\n",
    "import pandas as pd\n",
    "import matplotlib.pyplot as plt\n",
    "from scipy import stats"
   ]
  },
  {
   "cell_type": "code",
   "execution_count": 92,
   "id": "polished-behalf",
   "metadata": {},
   "outputs": [],
   "source": [
    "##### Train RMSE, Train MAPE, Test RMSE, Test MAPE\n",
    "multivariate = [[2.880642477257571, 10.007259508312966, 1.4784907249762735, 4.638666261736157], \n",
    "                [2.8321592534276845, 9.972839585443124, 1.524028803228934, 4.827203348566517], \n",
    "                [2.9856002175558762, 10.364071457952178, 1.6213736397567058, 5.224765058146817], \n",
    "                [3.0274062083861955, 10.696449693514499, 1.5258579754726262, 5.0046168821367365], \n",
    "                [2.7909717795641313, 9.50760149885351, 1.552473602992573, 5.0201513647173215]]\n",
    "univariate = [[3.0993869823933906, 10.813187908062755, 1.6762343569073055, 5.589913114290748],\n",
    "             [3.1455785495970696, 11.023146284809044, 1.6591497062372722, 5.449366419349877],\n",
    "             [3.1114624620920592, 10.894692785756682, 1.6572687361190028, 5.503572034372162],\n",
    "             [3.1625260716382693, 10.824215190387825, 1.5079337704109983, 5.425596452831647],\n",
    "             [3.153572163428867, 11.179381064751013, 1.750413903521624, 5.836911901763748]]"
   ]
  },
  {
   "cell_type": "code",
   "execution_count": 93,
   "id": "growing-particular",
   "metadata": {},
   "outputs": [
    {
     "name": "stdout",
     "output_type": "stream",
     "text": [
      "[5.589913114290748, 5.449366419349877, 5.503572034372162, 5.425596452831647, 5.836911901763748]\n",
      "[4.638666261736157, 4.827203348566517, 5.224765058146817, 5.0046168821367365, 5.0201513647173215]\n"
     ]
    }
   ],
   "source": [
    "uni=[]\n",
    "for i in range(len(univariate)):\n",
    "    uni.append(univariate[i][3])\n",
    "print(uni)\n",
    "\n",
    "multi=[]\n",
    "for i in range(len(multivariate)):\n",
    "    multi.append(multivariate[i][3])\n",
    "print(multi)"
   ]
  },
  {
   "cell_type": "code",
   "execution_count": 94,
   "id": "sporting-scholar",
   "metadata": {},
   "outputs": [],
   "source": [
    "##### mean and standard deviation\n",
    "uni_mean = np.mean(univariate, axis = 0)\n",
    "uni_std = np.std(univariate, axis = 0)\n",
    "multi_mean = np.mean(multivariate, axis = 0)\n",
    "multi_std = np.std(multivariate, axis = 0)"
   ]
  },
  {
   "cell_type": "code",
   "execution_count": 95,
   "id": "wrapped-string",
   "metadata": {},
   "outputs": [
    {
     "data": {
      "text/plain": [
       "Ttest_indResult(statistic=4.994321653530458, pvalue=0.0013164673615376234)"
      ]
     },
     "execution_count": 95,
     "metadata": {},
     "output_type": "execute_result"
    }
   ],
   "source": [
    "##### t-test\n",
    "stats.ttest_ind(uni, multi, equal_var = False)"
   ]
  },
  {
   "cell_type": "code",
   "execution_count": 96,
   "id": "verbal-clone",
   "metadata": {},
   "outputs": [
    {
     "data": {
      "image/png": "[encoded data removed]",
      "text/plain": [
       "<Figure size 432x288 with 1 Axes>"
      ]
     },
     "metadata": {
      "needs_background": "light"
     },
     "output_type": "display_data"
    }
   ],
   "source": [
    "##### bar graph\n",
    "mean = [uni_mean[3], multi_mean[3]]\n",
    "stds = [uni_std[3], multi_std[3]]\n",
    "xticklabels = ['Univariate', 'Multivariate']\n",
    "\n",
    "fig, ax = plt.subplots()\n",
    "ax.bar(np.arange(2), mean, color='red', edgecolor=\"black\", width=0.75, align='center')\n",
    "ax.set_xticks([])\n",
    "ax.set_xticks(np.arange(2))\n",
    "ax.set_xticklabels(xticklabels, rotation=0)\n",
    "ax.set_xlim(-1, 2)\n",
    "ax.set_ylabel('MAPE')\n",
    "#ax.set_title(title)\n",
    "\n",
    "a, b, c = ax.errorbar(np.arange(2), mean, color='black', yerr=stds, lolims=True, capsize=20, elinewidth=1, linestyle='')\n",
    "for cap in b:\n",
    "    cap.set_marker('_')\n",
    "\n",
    "plt.show()\n",
    "fig.savefig('uni_vs_multi.png')"
   ]
  }
 ],
 "metadata": {
  "kernelspec": {
   "display_name": "Environment (conda_tensorflow2_p36)",
   "language": "python",
   "name": "conda_tensorflow2_p36"
  },
  "language_info": {
   "codemirror_mode": {
    "name": "ipython",
    "version": 3
   },
   "file_extension": ".py",
   "mimetype": "text/x-python",
   "name": "python",
   "nbconvert_exporter": "python",
   "pygments_lexer": "ipython3",
   "version": "3.6.13"
  }
 },
 "nbformat": 4,
 "nbformat_minor": 5
}
